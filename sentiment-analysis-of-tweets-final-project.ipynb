{
 "cells": [
  {
   "cell_type": "markdown",
   "metadata": {},
   "source": [
    "# Sentiment Analysis von Tweets\n",
    "\n",
    "Das Projekt wurde im Rahmen der Veranstaltung zur maschinellen Sprachverarbeitung (Natural Language Processing, NLP) im WS 2021/22 an der Universität Tübingen von mir erfolgreich abgeschlossen. Die Hauptaufgabe des Projekts bestand darin, einen Klassifikator zu entwickeln, der entscheiden kann, ob eine Tweet positiv, negativ oder neutral ist. Als Daten für die von mir trainierten Klassifikatoren (Maximum Entropy Klassifikator, Support Vector Klassifikator und Decision Tree Klassifikator) dienten die Daten des SemEval 2013 Task 2b, ein Korpus mit 14882 annotierten Tweets. Informationen zum Korpus: https://aclanthology.org/S13-2052/. \n"
   ]
  },
  {
   "cell_type": "markdown",
   "metadata": {},
   "source": [
    "### Die im Projekt verwendeten Methoden und Bibliotheken"
   ]
  },
  {
   "cell_type": "code",
   "execution_count": null,
   "metadata": {
    "scrolled": true
   },
   "outputs": [],
   "source": [
    "# Einlesen und Visualisierung von Daten\n",
    "import pandas as pd                          # Bibliothek zum Einlesen und Bearbeiten von Daten\n",
    "import matplotlib.pyplot as plt              # Bibliothek zur Visualisierung von Daten\n",
    "import seaborn as sns                        # Bibliothek zur Visualisierung von Daten\n",
    "\n",
    "# Normalisierung von Daten\n",
    "import re                                    # Modul zum Matchen von regulären Ausdrücken\n",
    "import nltk                                  # Bibliothek für Anwendungen der Computerlinguistik\n",
    "from nltk.tokenize import word_tokenize      # Methode zur Tokenisierung von Texten\n",
    "from nltk.corpus import stopwords            # Liste von englischen Stoppwörtern\n",
    "from nltk import FreqDist                    # Klasse zur Berechnung der Häufigkeiten von Wörtern\n",
    "from nltk.stem import PorterStemmer          # Klasse zum Stemming von Wörtern\n",
    "stop_words = stopwords.words('english')\n",
    "ps = PorterStemmer()\n",
    "\n",
    "# Klassifizierung\n",
    "from nltk import NaiveBayesClassifier                   # Naive Bayes Klassifikator\n",
    "from nltk.classify import DecisionTreeClassifier        # Decision Tree Klassifikator\n",
    "from nltk.classify import MaxentClassifier              # Maximum Entropy Klassifikator\n",
    "from nltk.classify.scikitlearn import SklearnClassifier # Sklearn Klassifikator (ermöglicht innerhalb von NLTK unterschiedliche Klassifikatoren zu nutzen)\n",
    "from sklearn.svm import SVC                             # Support Vector Klassifikator"
   ]
  },
  {
   "cell_type": "markdown",
   "metadata": {},
   "source": [
    "### A1: Daten einlesen"
   ]
  },
  {
   "cell_type": "code",
   "execution_count": 157,
   "metadata": {},
   "outputs": [
    {
     "data": {
      "text/html": [
       "<div>\n",
       "<style scoped>\n",
       "    .dataframe tbody tr th:only-of-type {\n",
       "        vertical-align: middle;\n",
       "    }\n",
       "\n",
       "    .dataframe tbody tr th {\n",
       "        vertical-align: top;\n",
       "    }\n",
       "\n",
       "    .dataframe thead th {\n",
       "        text-align: right;\n",
       "    }\n",
       "</style>\n",
       "<table border=\"1\" class=\"dataframe\">\n",
       "  <thead>\n",
       "    <tr style=\"text-align: right;\">\n",
       "      <th></th>\n",
       "      <th>id</th>\n",
       "      <th>sentiment</th>\n",
       "      <th>tweet</th>\n",
       "    </tr>\n",
       "  </thead>\n",
       "  <tbody>\n",
       "    <tr>\n",
       "      <th>9679</th>\n",
       "      <td>103158179306807296</td>\n",
       "      <td>positive</td>\n",
       "      <td>RT @MNFootNg It's monday and Monday Night Foot...</td>\n",
       "    </tr>\n",
       "    <tr>\n",
       "      <th>9680</th>\n",
       "      <td>103157324096618497</td>\n",
       "      <td>positive</td>\n",
       "      <td>All I know is the road for that Lomardi start ...</td>\n",
       "    </tr>\n",
       "    <tr>\n",
       "      <th>9681</th>\n",
       "      <td>100259220338905089</td>\n",
       "      <td>neutral</td>\n",
       "      <td>All Blue and White fam, we r meeting at Golden...</td>\n",
       "    </tr>\n",
       "    <tr>\n",
       "      <th>9682</th>\n",
       "      <td>104230318525001729</td>\n",
       "      <td>positive</td>\n",
       "      <td>@DariusButler28   Have a great game agaist Tam...</td>\n",
       "    </tr>\n",
       "    <tr>\n",
       "      <th>9683</th>\n",
       "      <td>100461938533863424</td>\n",
       "      <td>negative</td>\n",
       "      <td>I'm pisseeedddd that I missed Kid Cudi's show ...</td>\n",
       "    </tr>\n",
       "  </tbody>\n",
       "</table>\n",
       "</div>"
      ],
      "text/plain": [
       "                      id sentiment  \\\n",
       "9679  103158179306807296  positive   \n",
       "9680  103157324096618497  positive   \n",
       "9681  100259220338905089   neutral   \n",
       "9682  104230318525001729  positive   \n",
       "9683  100461938533863424  negative   \n",
       "\n",
       "                                                  tweet  \n",
       "9679  RT @MNFootNg It's monday and Monday Night Foot...  \n",
       "9680  All I know is the road for that Lomardi start ...  \n",
       "9681  All Blue and White fam, we r meeting at Golden...  \n",
       "9682  @DariusButler28   Have a great game agaist Tam...  \n",
       "9683  I'm pisseeedddd that I missed Kid Cudi's show ...  "
      ]
     },
     "execution_count": 157,
     "metadata": {},
     "output_type": "execute_result"
    }
   ],
   "source": [
    "# Drei Datensätze einlesen: Trainingsdaten (train_data), Entwicklungsdaten (dev_data) und Testdaten (test_data)\n",
    "train_data = pd.read_csv(\"semeval2013/twitter-2013train-A.txt\", sep = '\\t', header = None)\n",
    "test_data = pd.read_csv(\"semeval2013/twitter-2013test-A.txt\", sep = '\\t', header = None)\n",
    "dev_data = pd.read_csv(\"semeval2013/twitter-2013dev-A.txt\", sep = '\\t', header = None)\n",
    "\n",
    "# Spalten von jedem der drei Datensätze benennen: id, sentiment (Stimmungswert: positiv, neutral negativ), tweet\n",
    "train_data.columns = ['id', 'sentiment', 'tweet']\n",
    "test_data.columns = ['id', 'sentiment', 'tweet']\n",
    "dev_data.columns = ['id', 'sentiment', 'tweet']\n",
    "\n",
    "# Trainingsdaten enthalten 9683 Tweets = 65% vom ganzen Datensatz\n",
    "train_data.tail()"
   ]
  },
  {
   "cell_type": "code",
   "execution_count": 158,
   "metadata": {},
   "outputs": [
    {
     "data": {
      "text/html": [
       "<div>\n",
       "<style scoped>\n",
       "    .dataframe tbody tr th:only-of-type {\n",
       "        vertical-align: middle;\n",
       "    }\n",
       "\n",
       "    .dataframe tbody tr th {\n",
       "        vertical-align: top;\n",
       "    }\n",
       "\n",
       "    .dataframe thead th {\n",
       "        text-align: right;\n",
       "    }\n",
       "</style>\n",
       "<table border=\"1\" class=\"dataframe\">\n",
       "  <thead>\n",
       "    <tr style=\"text-align: right;\">\n",
       "      <th></th>\n",
       "      <th>id</th>\n",
       "      <th>sentiment</th>\n",
       "      <th>tweet</th>\n",
       "    </tr>\n",
       "  </thead>\n",
       "  <tbody>\n",
       "    <tr>\n",
       "      <th>3542</th>\n",
       "      <td>264233437060288512</td>\n",
       "      <td>negative</td>\n",
       "      <td>Khaleda Zia's present India visit may have a b...</td>\n",
       "    </tr>\n",
       "    <tr>\n",
       "      <th>3543</th>\n",
       "      <td>263779058284904448</td>\n",
       "      <td>neutral</td>\n",
       "      <td>FYI, golf fans: @jameslepp will join Moj on We...</td>\n",
       "    </tr>\n",
       "    <tr>\n",
       "      <th>3544</th>\n",
       "      <td>250744453831213056</td>\n",
       "      <td>negative</td>\n",
       "      <td>@__Aniko you think mr.Calle let practice with ...</td>\n",
       "    </tr>\n",
       "    <tr>\n",
       "      <th>3545</th>\n",
       "      <td>258679974591090688</td>\n",
       "      <td>positive</td>\n",
       "      <td>Don't hide under your desk! It's just a salsa ...</td>\n",
       "    </tr>\n",
       "    <tr>\n",
       "      <th>3546</th>\n",
       "      <td>243018372453916674</td>\n",
       "      <td>neutral</td>\n",
       "      <td>Saturday flashmob on the music of The Runaways...</td>\n",
       "    </tr>\n",
       "  </tbody>\n",
       "</table>\n",
       "</div>"
      ],
      "text/plain": [
       "                      id sentiment  \\\n",
       "3542  264233437060288512  negative   \n",
       "3543  263779058284904448   neutral   \n",
       "3544  250744453831213056  negative   \n",
       "3545  258679974591090688  positive   \n",
       "3546  243018372453916674   neutral   \n",
       "\n",
       "                                                  tweet  \n",
       "3542  Khaleda Zia's present India visit may have a b...  \n",
       "3543  FYI, golf fans: @jameslepp will join Moj on We...  \n",
       "3544  @__Aniko you think mr.Calle let practice with ...  \n",
       "3545  Don't hide under your desk! It's just a salsa ...  \n",
       "3546  Saturday flashmob on the music of The Runaways...  "
      ]
     },
     "execution_count": 158,
     "metadata": {},
     "output_type": "execute_result"
    }
   ],
   "source": [
    "# Testdaten enthalten 3546 Tweets = 24 % vom ganzen Datensatz\n",
    "test_data.tail()"
   ]
  },
  {
   "cell_type": "code",
   "execution_count": 159,
   "metadata": {},
   "outputs": [
    {
     "data": {
      "text/html": [
       "<div>\n",
       "<style scoped>\n",
       "    .dataframe tbody tr th:only-of-type {\n",
       "        vertical-align: middle;\n",
       "    }\n",
       "\n",
       "    .dataframe tbody tr th {\n",
       "        vertical-align: top;\n",
       "    }\n",
       "\n",
       "    .dataframe thead th {\n",
       "        text-align: right;\n",
       "    }\n",
       "</style>\n",
       "<table border=\"1\" class=\"dataframe\">\n",
       "  <thead>\n",
       "    <tr style=\"text-align: right;\">\n",
       "      <th></th>\n",
       "      <th>id</th>\n",
       "      <th>sentiment</th>\n",
       "      <th>tweet</th>\n",
       "    </tr>\n",
       "  </thead>\n",
       "  <tbody>\n",
       "    <tr>\n",
       "      <th>1649</th>\n",
       "      <td>264241571908681728</td>\n",
       "      <td>neutral</td>\n",
       "      <td>#WEB YouTube improves upload process with opti...</td>\n",
       "    </tr>\n",
       "    <tr>\n",
       "      <th>1650</th>\n",
       "      <td>264228980444495875</td>\n",
       "      <td>positive</td>\n",
       "      <td>Gonna change my Tumblr theme. I hope I can fin...</td>\n",
       "    </tr>\n",
       "    <tr>\n",
       "      <th>1651</th>\n",
       "      <td>264210367192915968</td>\n",
       "      <td>neutral</td>\n",
       "      <td>I\\u2019m so jealous of everyone at the Justin ...</td>\n",
       "    </tr>\n",
       "    <tr>\n",
       "      <th>1652</th>\n",
       "      <td>263737249240342528</td>\n",
       "      <td>neutral</td>\n",
       "      <td>Jim Harbaugh\\u002c Alex Smith Drive Giants Wor...</td>\n",
       "    </tr>\n",
       "    <tr>\n",
       "      <th>1653</th>\n",
       "      <td>264096818831433728</td>\n",
       "      <td>neutral</td>\n",
       "      <td>#Trending: Tim Tebow is now dating cave woman ...</td>\n",
       "    </tr>\n",
       "  </tbody>\n",
       "</table>\n",
       "</div>"
      ],
      "text/plain": [
       "                      id sentiment  \\\n",
       "1649  264241571908681728   neutral   \n",
       "1650  264228980444495875  positive   \n",
       "1651  264210367192915968   neutral   \n",
       "1652  263737249240342528   neutral   \n",
       "1653  264096818831433728   neutral   \n",
       "\n",
       "                                                  tweet  \n",
       "1649  #WEB YouTube improves upload process with opti...  \n",
       "1650  Gonna change my Tumblr theme. I hope I can fin...  \n",
       "1651  I\\u2019m so jealous of everyone at the Justin ...  \n",
       "1652  Jim Harbaugh\\u002c Alex Smith Drive Giants Wor...  \n",
       "1653  #Trending: Tim Tebow is now dating cave woman ...  "
      ]
     },
     "execution_count": 159,
     "metadata": {},
     "output_type": "execute_result"
    }
   ],
   "source": [
    "# Entwicklungsdaten enthalten 1653 Tweets = 11 % vom ganzen Datensatz\n",
    "dev_data.tail()"
   ]
  },
  {
   "cell_type": "code",
   "execution_count": 160,
   "metadata": {},
   "outputs": [
    {
     "data": {
      "image/png": "[encoded data removed]",
      "text/plain": [
       "<Figure size 1152x576 with 3 Axes>"
      ]
     },
     "metadata": {
      "needs_background": "light"
     },
     "output_type": "display_data"
    }
   ],
   "source": [
    "# die Distribution der Stimmungswerte der Trainigsdaten visualisieren\n",
    "fig, axs = plt.subplots(1, 3, figsize=(16, 8))\n",
    "axs[0].set_title('Training Data')\n",
    "axs[1].set_title('Test Data')\n",
    "axs[2].set_title('Development Data')\n",
    "order_list = ['neutral', 'positive', 'negative']\n",
    "sns.histplot(train_data['sentiment'], color='cornflowerblue', alpha=1, ax=axs[0])\n",
    "sns.histplot(test_data['sentiment'], color='cornflowerblue', alpha=1, ax=axs[1])\n",
    "sns.histplot(dev_data['sentiment'], color='cornflowerblue', alpha=1, ax=axs[2])\n",
    "plt.show()\n",
    "# Man sieht, dass die Stimmungswerte in allen drei Datensätzen unterschiedliche Distributionen haben,\n",
    "# d.h. die Daten sind nicht balanciert:\n",
    "# Es gibt wenige negative Stimmungswerte und viele neutrale."
   ]
  },
  {
   "cell_type": "markdown",
   "metadata": {},
   "source": [
    "### A2: Eine Baseline implementieren\n",
    "#### A2. Schritt 1: Textdaten (Tweets) normalisieren"
   ]
  },
  {
   "cell_type": "code",
   "execution_count": 161,
   "metadata": {},
   "outputs": [],
   "source": [
    "def normalize_data(tweet):\n",
    "    \n",
    "    normalized_tweet = tweet.lower()\n",
    "    normalized_tweet = re.sub(r'https?:\\/\\/\\S+', '', normalized_tweet)\n",
    "    normalized_tweet = re.sub(r'@[A-Za-z0-9]+', '', normalized_tweet)\n",
    "    normalized_tweet = re.sub(r'#', '', normalized_tweet)\n",
    "    normalized_tweet = re.sub(r'\\\\u[a-z|0-9]{4}', '', normalized_tweet)\n",
    "    normalized_tweet = [token for token in word_tokenize(normalized_tweet) if token.isalpha() and not token in stop_words and len(token)>=3]\n",
    "     \n",
    "    return normalized_tweet"
   ]
  },
  {
   "cell_type": "code",
   "execution_count": 162,
   "metadata": {},
   "outputs": [],
   "source": [
    "# Die Normalisierungsfunktion auf Rohdaten (Tweets) anwenden\n",
    "train_data['normalized_tweet'] = train_data['tweet'].apply(normalize_data)\n",
    "test_data['normalized_tweet'] = test_data['tweet'].apply(normalize_data)\n",
    "dev_data['normalized_tweet'] = dev_data['tweet'].apply(normalize_data)"
   ]
  },
  {
   "cell_type": "code",
   "execution_count": 163,
   "metadata": {},
   "outputs": [],
   "source": [
    "# Drei Datensätze mit den normalisierten Tweets und den entsprechenden Stimmungswerten erstellen.\n",
    "# Diese werden später für Klassifiezierungsmodelle benötigt.\n",
    "tweets_train = list(zip(train_data['normalized_tweet'], train_data['sentiment']))    \n",
    "tweets_test = list(zip(test_data['normalized_tweet'], test_data['sentiment']))\n",
    "tweets_dev = list(zip(dev_data['normalized_tweet'], dev_data['sentiment']))"
   ]
  },
  {
   "cell_type": "markdown",
   "metadata": {},
   "source": [
    "#### A2. Schritt 2: Tokens aus den normalisierten Tweets extrahieren"
   ]
  },
  {
   "cell_type": "code",
   "execution_count": 164,
   "metadata": {},
   "outputs": [
    {
     "name": "stdout",
     "output_type": "stream",
     "text": [
      "153237\n",
      "['gas', 'house', 'hit', 'going', 'chapel', 'hill', 'sat', 'theo', 'walcott', 'still']\n"
     ]
    }
   ],
   "source": [
    "def get_all_words_from_tweets(tweets):\n",
    "    \n",
    "    all_words = []\n",
    "    for tweet in tweets:\n",
    "        for word in tweet:\n",
    "            all_words.append(word)\n",
    "    \n",
    "    return all_words\n",
    "\n",
    "all_words_train = get_all_words_from_tweets(train_data['normalized_tweet'])\n",
    "all_words_test = get_all_words_from_tweets(test_data['normalized_tweet'])\n",
    "all_words_dev = get_all_words_from_tweets(dev_data['normalized_tweet'])\n",
    "all_words = all_words_train + all_words_test + all_words_dev\n",
    "\n",
    "print(len(all_words))\n",
    "print(all_words[:10])"
   ]
  },
  {
   "cell_type": "markdown",
   "metadata": {},
   "source": [
    "#### A2. Schritt 3: Features (die 1000 häufigsten Tokens) extrahieren"
   ]
  },
  {
   "cell_type": "code",
   "execution_count": 165,
   "metadata": {},
   "outputs": [
    {
     "name": "stdout",
     "output_type": "stream",
     "text": [
      "['tomorrow', 'may', 'day', 'night', 'going', 'see', 'saturday', 'sunday', 'game', 'time']\n"
     ]
    }
   ],
   "source": [
    "def get_features(wordlist):\n",
    "    wordlist = nltk.FreqDist(wordlist)\n",
    "    most_common_features = wordlist.most_common(1000)\n",
    "    return [word for (word, freq) in most_common_features]\n",
    "\n",
    "word_features = get_features(all_words)\n",
    "print(word_features[:10])"
   ]
  },
  {
   "cell_type": "markdown",
   "metadata": {},
   "source": [
    "#### A2. Schritt 4: Das Vorhandensein von Features in den normalisierten Tweets feststellen"
   ]
  },
  {
   "cell_type": "code",
   "execution_count": 166,
   "metadata": {},
   "outputs": [],
   "source": [
    "def extract_features(tweet):\n",
    "    features = {}\n",
    "    for word in word_features:\n",
    "        features[f'contains {word}'] = (word in set(tweet))\n",
    "    return features"
   ]
  },
  {
   "cell_type": "code",
   "execution_count": 167,
   "metadata": {},
   "outputs": [],
   "source": [
    "# Das Vorhandensein von Features in den normalisierten Tweets feststellen\n",
    "labeled_features_train = [(extract_features(tweet), sentiment) for (tweet, sentiment) in tweets_train]\n",
    "labeled_features_test = [(extract_features(tweet), sentiment) for (tweet, sentiment) in tweets_test]\n",
    "labeled_features_dev = [(extract_features(tweet), sentiment) for (tweet, sentiment) in tweets_dev]"
   ]
  },
  {
   "cell_type": "markdown",
   "metadata": {},
   "source": [
    "#### A2. Schritt 5: Naive Bayes Classifier trainieren"
   ]
  },
  {
   "cell_type": "code",
   "execution_count": 168,
   "metadata": {},
   "outputs": [],
   "source": [
    "nb_classifier = NaiveBayesClassifier.train(labeled_features_train)"
   ]
  },
  {
   "cell_type": "markdown",
   "metadata": {},
   "source": [
    "### A3: Evaluierung durchführen"
   ]
  },
  {
   "cell_type": "code",
   "execution_count": 169,
   "metadata": {},
   "outputs": [
    {
     "name": "stdout",
     "output_type": "stream",
     "text": [
      "Accuracy of Naive Bayes Classifier:  0.639413588948407\n",
      "Most Informative Features\n",
      "           contains fuck = True           negati : neutra =     91.2 : 1.0\n",
      "        contains amazing = True           positi : neutra =     49.1 : 1.0\n",
      "        contains excited = True           positi : neutra =     43.0 : 1.0\n",
      "           contains luck = True           positi : neutra =     39.9 : 1.0\n",
      "          contains thank = True           positi : neutra =     34.0 : 1.0\n",
      "          contains sorry = True           negati : neutra =     29.6 : 1.0\n",
      "          contains happy = True           positi : neutra =     29.5 : 1.0\n",
      "         contains injury = True           negati : positi =     27.5 : 1.0\n",
      "        contains awesome = True           positi : neutra =     27.0 : 1.0\n",
      "          contains great = True           positi : neutra =     23.5 : 1.0\n"
     ]
    }
   ],
   "source": [
    "accuracy = nltk.classify.accuracy(nb_classifier, labeled_features_test)\n",
    "print(\"Accuracy of Naive Bayes Classifier: \",accuracy)\n",
    "nb_classifier.show_most_informative_features(10)"
   ]
  },
  {
   "cell_type": "markdown",
   "metadata": {},
   "source": [
    "### A4 und A5: Ein weiteres Verfahren implementieren und solche Features wie Stamm/Lemma und POS-Tag ehtrahieren\n",
    "#### A4 und A5. Schritt 1: Normalisierung der Daten"
   ]
  },
  {
   "cell_type": "code",
   "execution_count": 170,
   "metadata": {},
   "outputs": [],
   "source": [
    "# Rohdaten (Tweets) normalisieren. Diesmal werden die Tokens lemmatisiert.\n",
    "# Darüber hinaus wird jedem der Tokens ein POS-Tag zugeschrieben\n",
    "\n",
    "def normalize_data_2(tweet):\n",
    "    \n",
    "    # normalized_tweet = tweet.lower()\n",
    "    normalized_tweet = re.sub(r'https?:\\/\\/\\S+', '', tweet)\n",
    "    normalized_tweet = re.sub(r'@[A-Za-z0-9]+', '', normalized_tweet)\n",
    "    normalized_tweet = re.sub(r'#', '', normalized_tweet)\n",
    "    normalized_tweet = re.sub(r'\\\\u[a-z|0-9]{4}', '', normalized_tweet)\n",
    "    normalized_tweet = [token for token in word_tokenize(normalized_tweet) if token.isalpha() and not token in stop_words and len(token)>=3]\n",
    "    normalized_tweet = nltk.pos_tag(normalized_tweet)\n",
    "    normalized_tweet = [(ps.stem(word).lower(), tag) for word, tag in normalized_tweet]\n",
    "    \n",
    "    return normalized_tweet"
   ]
  },
  {
   "cell_type": "code",
   "execution_count": 171,
   "metadata": {},
   "outputs": [],
   "source": [
    "# Funktion zum Entfernen der POS-Tags. Diese wird später für die Anpassung von Trainings- und Testdaten benötigt.\n",
    "def remove_tags(normalized_tweet):\n",
    "    new_tweet = [word for (word, tag) in normalized_tweet]\n",
    "    return new_tweet"
   ]
  },
  {
   "cell_type": "code",
   "execution_count": 172,
   "metadata": {},
   "outputs": [
    {
     "data": {
      "text/plain": [
       "0    [(ga, NNP), (hous, NN), (hit, VBD), (go, VBG),...\n",
       "1    [(theo, NNP), (walcott, NNP), (still, RB), (sh...\n",
       "2    [(gsp, NNP), (fan, NN), (hate, NN), (nick, NNP...\n",
       "3    [(iranian, JJ), (gener, JJ), (say, VBZ), (isra...\n",
       "4    [(tehran, NNP), (mon, NNP), (amour, NNP), (oba...\n",
       "Name: normalized_tweet_2, dtype: object"
      ]
     },
     "execution_count": 172,
     "metadata": {},
     "output_type": "execute_result"
    }
   ],
   "source": [
    "# Die neue Normalisierungsfunktion auf Rohdaten (Tweets) anwenden\n",
    "train_data['normalized_tweet_2'] = train_data['tweet'].apply(normalize_data_2)\n",
    "test_data['normalized_tweet_2'] = test_data['tweet'].apply(normalize_data_2)\n",
    "dev_data['normalized_tweet_2'] = dev_data['tweet'].apply(normalize_data_2)\n",
    "\n",
    "train_data['normalized_tweet_2'][:5]"
   ]
  },
  {
   "cell_type": "code",
   "execution_count": 173,
   "metadata": {},
   "outputs": [
    {
     "name": "stdout",
     "output_type": "stream",
     "text": [
      "0 (['ga', 'hous', 'hit', 'go', 'chapel', 'hill', 'sat'], 'positive')\n",
      "1 (['theo', 'walcott', 'still', 'shit', 'watch', 'rafa', 'johnni', 'deal', 'saturday'], 'negative')\n",
      "2 (['gsp', 'fan', 'hate', 'nick', 'diaz', 'cant', 'wait', 'februari'], 'negative')\n",
      "3 (['iranian', 'gener', 'say', 'israel', 'iron', 'dome', 'cant', 'deal', 'missil', 'keep', 'talk', 'like', 'may', 'end', 'find'], 'negative')\n",
      "4 (['tehran', 'mon', 'amour', 'obama', 'tri', 'establish', 'tie', 'mullah', 'via', 'barack', 'obama', 'vote', 'mitt', 'romney'], 'neutral')\n",
      "5 (['sat', 'whole', 'movi', 'harri', 'ron', 'christma', 'ohlawd'], 'neutral')\n",
      "6 (['davlar', 'main', 'rival', 'team', 'poland', 'hope', 'make', 'success', 'end', 'tough', 'week', 'train', 'tomorrow'], 'positive')\n",
      "7 (['talk', 'act', 'sat', 'decid', 'want', 'colleg', 'appli', 'colleg', 'everyth', 'colleg', 'stress'], 'negative')\n",
      "8 (['whi', 'happi', 'valentin', 'trend', 'it', 'februari', 'june', 'smh'], 'neutral')\n",
      "9 (['they', 'may', 'superbowl', 'dalla', 'dalla', 'aint', 'win', 'superbowl', 'not', 'quarterback', 'owner'], 'negative')\n"
     ]
    }
   ],
   "source": [
    "# Entfernen der POS-Tags, da diese bei der späteren Evaluierung nicht mehr benötigt werden.\n",
    "tweets_train_2 = list(zip(train_data['normalized_tweet_2'].apply(remove_tags), train_data['sentiment']))    \n",
    "tweets_test_2 = list(zip(test_data['normalized_tweet_2'].apply(remove_tags), test_data['sentiment']))\n",
    "tweets_dev_2 = list(zip(dev_data['normalized_tweet_2'].apply(remove_tags), dev_data['sentiment']))\n",
    "\n",
    "for i, data in enumerate(tweets_train_2[:10]):\n",
    "    print(f'{i} {data}')"
   ]
  },
  {
   "cell_type": "markdown",
   "metadata": {},
   "source": [
    "#### A4 und A5. Schritt 2: Adjektive und Adverbien aus den normalisierten Tweets extrahieren"
   ]
  },
  {
   "cell_type": "code",
   "execution_count": 174,
   "metadata": {},
   "outputs": [
    {
     "name": "stdout",
     "output_type": "stream",
     "text": [
      "19251\n"
     ]
    }
   ],
   "source": [
    "def get_all_adjectives_and_adverbs_from_tweets(tweets):\n",
    "    all_adjs_and_adverbs = []\n",
    "    for tweet in tweets:\n",
    "        for (word, tag) in tweet:\n",
    "            if tag.startswith('JJ') or tag.startswith('RB'):\n",
    "                all_adjs_and_adverbs.append(word)\n",
    "    \n",
    "    return all_adjs_and_adverbs\n",
    "\n",
    "all_adjs_and_adverbs_train = get_all_adjectives_and_adverbs_from_tweets(train_data['normalized_tweet_2'])\n",
    "all_adjs_and_adverbs_test = get_all_adjectives_and_adverbs_from_tweets(test_data['normalized_tweet_2'])\n",
    "all_adjs_and_adverbs_dev = get_all_adjectives_and_adverbs_from_tweets(dev_data['normalized_tweet_2'])\n",
    "all_adjs_and_adverbs = all_adjs_and_adverbs_train + all_adjs_and_adverbs_test + all_adjs_and_adverbs_dev\n",
    "print(len(all_adjs_and_adverbs))\n",
    "# print(nltk.FreqDist(all_adjs_and_adverbs).most_common(150))"
   ]
  },
  {
   "cell_type": "markdown",
   "metadata": {},
   "source": [
    "#### A4 und A5. Schritt 3: Die 1000 häufigsten Adjektive und Adverbien extrahieren"
   ]
  },
  {
   "cell_type": "code",
   "execution_count": 175,
   "metadata": {},
   "outputs": [],
   "source": [
    "def get_features_2(wordlist):\n",
    "    wordlist = nltk.FreqDist(wordlist)\n",
    "    most_common_features = wordlist.most_common(1000)\n",
    "    return [word for (word, freq) in most_common_features]\n",
    "\n",
    "word_features_2 = get_features_2(all_adjs_and_adverbs)"
   ]
  },
  {
   "cell_type": "markdown",
   "metadata": {},
   "source": [
    "#### A4 und A5. Schritt 4. Das Vorhandensein von den Adjektiven in den Tweets feststellen"
   ]
  },
  {
   "cell_type": "code",
   "execution_count": 176,
   "metadata": {},
   "outputs": [],
   "source": [
    "def extract_features_2(tweet):\n",
    "    features = {}\n",
    "    for word in word_features_2:\n",
    "        features[f'contains {word}'] = (word in set(tweet))\n",
    "    return features"
   ]
  },
  {
   "cell_type": "code",
   "execution_count": 177,
   "metadata": {},
   "outputs": [],
   "source": [
    "# Das Vorhandensein von den Adjektiven in den Tweets feststellen\n",
    "labeled_features_train_2 = [(extract_features_2(tweet), sentiment) for (tweet, sentiment) in tweets_train_2]\n",
    "labeled_features_test_2 = [(extract_features_2(tweet), sentiment) for (tweet, sentiment) in tweets_test_2]\n",
    "labeled_features_dev_2 = [(extract_features_2(tweet), sentiment) for (tweet, sentiment) in tweets_dev_2]"
   ]
  },
  {
   "cell_type": "markdown",
   "metadata": {},
   "source": [
    "#### A4 und A5. Schritt 5: Naive Bayes Classifier trainieren"
   ]
  },
  {
   "cell_type": "code",
   "execution_count": 178,
   "metadata": {},
   "outputs": [],
   "source": [
    "nb_classifier_2 = NaiveBayesClassifier.train(labeled_features_train_2)"
   ]
  },
  {
   "cell_type": "markdown",
   "metadata": {},
   "source": [
    "### A6: Evaluierung durchführen"
   ]
  },
  {
   "cell_type": "code",
   "execution_count": 179,
   "metadata": {},
   "outputs": [
    {
     "name": "stdout",
     "output_type": "stream",
     "text": [
      "Accuracy of Naive Bayes Classifier:  0.6543557936284183\n",
      "Most Informative Features\n",
      "          contains excit = True           positi : neutra =     39.6 : 1.0\n",
      "           contains fuck = True           negati : neutra =     36.9 : 1.0\n",
      "          contains happi = True           positi : neutra =     29.8 : 1.0\n",
      "          contains sorri = True           negati : neutra =     29.6 : 1.0\n",
      "           contains amaz = True           positi : neutra =     29.5 : 1.0\n",
      "         contains awesom = True           positi : neutra =     27.0 : 1.0\n",
      "          contains thank = True           positi : neutra =     25.1 : 1.0\n",
      "            contains sad = True           negati : neutra =     23.8 : 1.0\n",
      "           contains fail = True           negati : positi =     22.5 : 1.0\n",
      "          contains great = True           positi : neutra =     21.2 : 1.0\n"
     ]
    }
   ],
   "source": [
    "accuracy_2 = nltk.classify.accuracy(nb_classifier_2, labeled_features_test_2)\n",
    "print(\"Accuracy of Naive Bayes Classifier: \",accuracy_2)\n",
    "nb_classifier_2.show_most_informative_features(10)"
   ]
  },
  {
   "cell_type": "code",
   "execution_count": 180,
   "metadata": {},
   "outputs": [
    {
     "name": "stdout",
     "output_type": "stream",
     "text": [
      "  ==> Training (5 iterations)\n",
      "\n",
      "      Iteration    Log Likelihood    Accuracy\n",
      "      ---------------------------------------\n",
      "             1          -1.09861        0.376\n",
      "             2          -1.06387        0.404\n",
      "             3          -1.03565        0.404\n",
      "             4          -1.01413        0.404\n",
      "         Final          -0.99847        0.404\n"
     ]
    },
    {
     "data": {
      "text/plain": [
       "0.4299407950380603"
      ]
     },
     "execution_count": 180,
     "metadata": {},
     "output_type": "execute_result"
    }
   ],
   "source": [
    "# Maximum Entropy Klassifikator trainiren und evaluieren\n",
    "maxent_classifier = MaxentClassifier.train(labeled_features_train_2, max_iter=5)\n",
    "nltk.classify.accuracy(maxent_classifier, labeled_features_test_2)"
   ]
  },
  {
   "cell_type": "code",
   "execution_count": 181,
   "metadata": {},
   "outputs": [
    {
     "data": {
      "text/plain": [
       "0.6478714406540739"
      ]
     },
     "execution_count": 181,
     "metadata": {},
     "output_type": "execute_result"
    }
   ],
   "source": [
    "# Support Vector Klassifikator trainieren und evaluieren\n",
    "SVC_classifier = SklearnClassifier(SVC())\n",
    "SVC_classifier.train(labeled_features_train_2)\n",
    "nltk.classify.accuracy(SVC_classifier, labeled_features_test_2)"
   ]
  },
  {
   "cell_type": "code",
   "execution_count": 154,
   "metadata": {},
   "outputs": [
    {
     "data": {
      "text/plain": [
       "0.6433605864110515"
      ]
     },
     "execution_count": 154,
     "metadata": {},
     "output_type": "execute_result"
    }
   ],
   "source": [
    "# Decision Tree Klassifikator trainieren und evaluieren\n",
    "decisiont_classifier = DecisionTreeClassifier.train(labeled_features_train_2)\n",
    "nltk.classify.accuracy(decisiont_classifier,  labeled_features_test_2)"
   ]
  },
  {
   "cell_type": "markdown",
   "metadata": {},
   "source": [
    "### A7: Zusammenfassung der Ergebnisse"
   ]
  },
  {
   "cell_type": "markdown",
   "metadata": {},
   "source": [
    "Im Rahmen des Projektes wurden folgende Klassifikationsmodelle trainiert: Naive Bayes, Maximum Entropy, Decision Tree sowie Support Vector Klassifikatoren. Die genannten Modelle analysieren die normalisierten Tweets, indem sie aufgrund von den definierten Features jeden der Tweets als neutral, positiv oder negativ einstufen. Die Accuracy-Werte der Modelle sehen wie folgt aus:\n",
    "\n",
    "- Die 1000 häufigsten Tokens aus den normalisierten Tweets als Features\n",
    "   - Der Accuracy-Wert von Naive Bayes Klassifikator: 0,639\n",
    "\n",
    "\n",
    "- Die 1000 häufigsten Adjektive und Adverbien aus den normalisierten Tweets als Features\n",
    "   - Der Accuracy-Wert von Naive Bayes Klassifikator: 0,654\n",
    "\n",
    "Man sieht, dass die 1000 häufigsten Adjektive und Adverbien als etwas bessere Features für das Modell erscheinen, da diese den Accuracy-Wert von Naive Bayes leicht erhöhen. Dies kann dafür sprechen, dass Adjektive und Adverbien mehr Informationsgehalt bezüglich der Stimmungswerte positiv, negativ und neutral beinhalten. Der Accuracy-Wert könnte wahrscheinlich noch erhöht werden, indem man einen besseren POS-Tagger implementiert sowie die Rechtsschreibkorrektur durchführt. Außerdem stellt sich noch die Frage, ob der Accuracy-Wert aufgrund von dem nicht balancierten Datensatz ein zuverlässiges Ergebnis ist und ob die Balancierung von Daten in Bezug auf die Stimmungswerte neutral, positiv und negativ nötig ist. \n",
    "\n",
    "Für das Trainieren der drei anderen Klassifikationsmodelle - Maximum Entropy, Support Vector und Decision Tree - wurden die 1000 häufigsten Adjektive und Adverbien als Features eingesetzt, da diese den Naive Bayes Klassifikator zu besseren Ergebnissen geführt haben. Die Accuracy-Werte der Modelle sehen jedoch etwas schlechter als die des Naive Bayes Klassifikators aus:\n",
    "\n",
    "- Die 1000 häufigsten Adjektive und Adverbien aus den normalisierten Tweets als Features\n",
    "  - Der Accuracy-Wert von Maximum Entropy Klassifikator: 0,429\n",
    "  - Der Accuracy-Wert von Support Vector Klassifikator: 0,647\n",
    "  - Der Accuracy-Wert von Decision Tree Klassifikator: 0,643\n",
    "\n",
    "Die schlechtesten Accuracy-Werte zeigt der Maximun Entropy Klassifikator. Die besseren Werte werden von den Klassifikatoren Support Vector und Decision Tree geliefert. Diese fallen jedoch etwas niedriger als die Werte von dem Naive Bayes Klassifikator aus. Trotz seiner naiven Grundannahme erzielt also der Naive Bayes Klassifikator die besten Ergebnisse im Rahmen des vorliegenden Projektes. "
   ]
  },
  {
   "cell_type": "code",
   "execution_count": null,
   "metadata": {},
   "outputs": [],
   "source": []
  }
 ],
 "metadata": {
  "kernelspec": {
   "display_name": "Python 3 (ipykernel)",
   "language": "python",
   "name": "python3"
  },
  "language_info": {
   "codemirror_mode": {
    "name": "ipython",
    "version": 3
   },
   "file_extension": ".py",
   "mimetype": "text/x-python",
   "name": "python",
   "nbconvert_exporter": "python",
   "pygments_lexer": "ipython3",
   "version": "3.8.0rc1"
  },
  "toc": {
   "base_numbering": 1,
   "nav_menu": {},
   "number_sections": true,
   "sideBar": true,
   "skip_h1_title": false,
   "title_cell": "Table of Contents",
   "title_sidebar": "Contents",
   "toc_cell": false,
   "toc_position": {
    "height": "calc(100% - 180px)",
    "left": "10px",
    "top": "150px",
    "width": "384px"
   },
   "toc_section_display": true,
   "toc_window_display": true
  },
  "varInspector": {
   "cols": {
    "lenName": 16,
    "lenType": 16,
    "lenVar": 40
   },
   "kernels_config": {
    "python": {
     "delete_cmd_postfix": "",
     "delete_cmd_prefix": "del ",
     "library": "var_list.py",
     "varRefreshCmd": "print(var_dic_list())"
    },
    "r": {
     "delete_cmd_postfix": ") ",
     "delete_cmd_prefix": "rm(",
     "library": "var_list.r",
     "varRefreshCmd": "cat(var_dic_list()) "
    }
   },
   "types_to_exclude": [
    "module",
    "function",
    "builtin_function_or_method",
    "instance",
    "_Feature"
   ],
   "window_display": false
  }
 },
 "nbformat": 4,
 "nbformat_minor": 4
}
