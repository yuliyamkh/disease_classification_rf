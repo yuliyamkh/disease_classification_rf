{
 "cells": [
  {
   "cell_type": "code",
   "execution_count": 33,
   "metadata": {
    "execution": {
     "iopub.execute_input": "2023-12-14T21:20:03.382546Z",
     "iopub.status.busy": "2023-12-14T21:20:03.382131Z",
     "iopub.status.idle": "2023-12-14T21:20:03.390710Z",
     "shell.execute_reply": "2023-12-14T21:20:03.389699Z",
     "shell.execute_reply.started": "2023-12-14T21:20:03.382502Z"
    }
   },
   "outputs": [],
   "source": [
    "# Import libraries\n",
    "import pandas as pd\n",
    "import numpy as np\n",
    "import matplotlib.pyplot as plt\n",
    "import re\n",
    "import nltk\n",
    "import textblob\n",
    "from nltk.corpus import stopwords\n",
    "import sklearn\n",
    "from sklearn.feature_extraction.text import CountVectorizer\n",
    "from sklearn.model_selection import train_test_split\n",
    "from nltk.stem import PorterStemmer\n",
    "from sklearn.naive_bayes import MultinomialNB\n",
    "from sklearn import svm\n",
    "from sklearn.metrics import accuracy_score\n",
    "from sklearn.metrics import confusion_matrix\n",
    "from sklearn.metrics import ConfusionMatrixDisplay"
   ]
  },
  {
   "cell_type": "code",
   "execution_count": 22,
   "metadata": {
    "execution": {
     "iopub.execute_input": "2023-12-14T20:57:29.839169Z",
     "iopub.status.busy": "2023-12-14T20:57:29.838854Z",
     "iopub.status.idle": "2023-12-14T20:57:29.890742Z",
     "shell.execute_reply": "2023-12-14T20:57:29.889928Z",
     "shell.execute_reply.started": "2023-12-14T20:57:29.839135Z"
    }
   },
   "outputs": [
    {
     "data": {
      "text/html": [
       "<div>\n",
       "<style scoped>\n",
       "    .dataframe tbody tr th:only-of-type {\n",
       "        vertical-align: middle;\n",
       "    }\n",
       "\n",
       "    .dataframe tbody tr th {\n",
       "        vertical-align: top;\n",
       "    }\n",
       "\n",
       "    .dataframe thead th {\n",
       "        text-align: right;\n",
       "    }\n",
       "</style>\n",
       "<table border=\"1\" class=\"dataframe\">\n",
       "  <thead>\n",
       "    <tr style=\"text-align: right;\">\n",
       "      <th></th>\n",
       "      <th>id</th>\n",
       "      <th>keyword</th>\n",
       "      <th>location</th>\n",
       "      <th>text</th>\n",
       "      <th>target</th>\n",
       "    </tr>\n",
       "  </thead>\n",
       "  <tbody>\n",
       "    <tr>\n",
       "      <th>0</th>\n",
       "      <td>1</td>\n",
       "      <td>NaN</td>\n",
       "      <td>NaN</td>\n",
       "      <td>Our Deeds are the Reason of this #earthquake M...</td>\n",
       "      <td>1</td>\n",
       "    </tr>\n",
       "    <tr>\n",
       "      <th>1</th>\n",
       "      <td>4</td>\n",
       "      <td>NaN</td>\n",
       "      <td>NaN</td>\n",
       "      <td>Forest fire near La Ronge Sask. Canada</td>\n",
       "      <td>1</td>\n",
       "    </tr>\n",
       "    <tr>\n",
       "      <th>2</th>\n",
       "      <td>5</td>\n",
       "      <td>NaN</td>\n",
       "      <td>NaN</td>\n",
       "      <td>All residents asked to 'shelter in place' are ...</td>\n",
       "      <td>1</td>\n",
       "    </tr>\n",
       "    <tr>\n",
       "      <th>3</th>\n",
       "      <td>6</td>\n",
       "      <td>NaN</td>\n",
       "      <td>NaN</td>\n",
       "      <td>13,000 people receive #wildfires evacuation or...</td>\n",
       "      <td>1</td>\n",
       "    </tr>\n",
       "    <tr>\n",
       "      <th>4</th>\n",
       "      <td>7</td>\n",
       "      <td>NaN</td>\n",
       "      <td>NaN</td>\n",
       "      <td>Just got sent this photo from Ruby #Alaska as ...</td>\n",
       "      <td>1</td>\n",
       "    </tr>\n",
       "  </tbody>\n",
       "</table>\n",
       "</div>"
      ],
      "text/plain": [
       "   id keyword location                                               text  \\\n",
       "0   1     NaN      NaN  Our Deeds are the Reason of this #earthquake M...   \n",
       "1   4     NaN      NaN             Forest fire near La Ronge Sask. Canada   \n",
       "2   5     NaN      NaN  All residents asked to 'shelter in place' are ...   \n",
       "3   6     NaN      NaN  13,000 people receive #wildfires evacuation or...   \n",
       "4   7     NaN      NaN  Just got sent this photo from Ruby #Alaska as ...   \n",
       "\n",
       "   target  \n",
       "0       1  \n",
       "1       1  \n",
       "2       1  \n",
       "3       1  \n",
       "4       1  "
      ]
     },
     "execution_count": 22,
     "metadata": {},
     "output_type": "execute_result"
    }
   ],
   "source": [
    "# Observe data\n",
    "filename = '../input/natural-language-processing-with-disaster-tweets/kaggle nlp/train.csv'\n",
    "data = pd.read_csv(filename)\n",
    "data.head()"
   ]
  },
  {
   "cell_type": "code",
   "execution_count": 31,
   "metadata": {
    "execution": {
     "iopub.execute_input": "2023-12-14T21:02:34.799380Z",
     "iopub.status.busy": "2023-12-14T21:02:34.799001Z",
     "iopub.status.idle": "2023-12-14T21:02:34.937140Z",
     "shell.execute_reply": "2023-12-14T21:02:34.935574Z",
     "shell.execute_reply.started": "2023-12-14T21:02:34.799344Z"
    }
   },
   "outputs": [
    {
     "data": {
      "image/png": "[encoded data removed]",
      "text/plain": [
       "<Figure size 432x288 with 1 Axes>"
      ]
     },
     "metadata": {
      "needs_background": "light"
     },
     "output_type": "display_data"
    }
   ],
   "source": [
    "# Plot the label distribution\n",
    "data['target'].value_counts().plot(kind='bar', color=['yellow', 'blue'], alpha=0.7)\n",
    "plt.show()"
   ]
  },
  {
   "cell_type": "code",
   "execution_count": 32,
   "metadata": {
    "execution": {
     "iopub.execute_input": "2023-12-14T21:05:52.758589Z",
     "iopub.status.busy": "2023-12-14T21:05:52.758192Z",
     "iopub.status.idle": "2023-12-14T21:06:06.679382Z",
     "shell.execute_reply": "2023-12-14T21:06:06.678389Z",
     "shell.execute_reply.started": "2023-12-14T21:05:52.758550Z"
    }
   },
   "outputs": [],
   "source": [
    "# Normalize raw text data\n",
    "def normalize_textual_data(text):\n",
    "    \n",
    "    stop_words = set(stopwords.words('english'))\n",
    "    stemmer = PorterStemmer()\n",
    "    \n",
    "    lower_string = text.lower()\n",
    "    remove_numbers = re.sub(r'\\d+','',lower_string)\n",
    "    remove_punctuation = re.sub(r'[^\\w\\s]','', remove_numbers)\n",
    "    remove_spaces = remove_punctuation.strip()\n",
    "    split_text = remove_spaces.split()\n",
    "    remove_unneeded_words = [stemmer.stem(word) for word in split_text if not word in stop_words and len(word)>2 and not word.startswith('http') and word.isalpha()]\n",
    "    pos_tag_text = ' '.join([word for (word, tag) in nltk.pos_tag(remove_unneeded_words) if tag.startswith('NN') or tag.startswith('JJ')])\n",
    "    \n",
    "    return pos_tag_text\n",
    "\n",
    "documents = []\n",
    "tweets = pd.read_csv(filename)['text']\n",
    "for tweet in range(len(tweets)):\n",
    "    tweets[tweet] = normalize_textual_data(tweets[tweet])"
   ]
  },
  {
   "cell_type": "code",
   "execution_count": 36,
   "metadata": {
    "execution": {
     "iopub.execute_input": "2023-12-14T21:26:44.761832Z",
     "iopub.status.busy": "2023-12-14T21:26:44.761517Z",
     "iopub.status.idle": "2023-12-14T21:26:45.079719Z",
     "shell.execute_reply": "2023-12-14T21:26:45.078636Z",
     "shell.execute_reply.started": "2023-12-14T21:26:44.761799Z"
    }
   },
   "outputs": [],
   "source": [
    "# Fit the Bag of Words model\n",
    "# Get unique words found in all the documents\n",
    "# Unique words represent the features\n",
    "\n",
    "vectorizer = CountVectorizer(max_features=1800)\n",
    "array_of_text_data = np.array(tweets)\n",
    "X_bow = vectorizer.fit_transform(array_of_text_data).toarray()\n",
    "y_targets = pd.read_csv(filename)['target']\n",
    "\n",
    "# Split the dataset into train and test sets\n",
    "X_train, X_test, y_train, y_test = train_test_split(X_bow, y_targets, test_size = 0.2)"
   ]
  },
  {
   "cell_type": "code",
   "execution_count": 41,
   "metadata": {
    "execution": {
     "iopub.execute_input": "2023-12-14T21:29:03.161031Z",
     "iopub.status.busy": "2023-12-14T21:29:03.160716Z",
     "iopub.status.idle": "2023-12-14T21:29:03.554080Z",
     "shell.execute_reply": "2023-12-14T21:29:03.553346Z",
     "shell.execute_reply.started": "2023-12-14T21:29:03.160996Z"
    }
   },
   "outputs": [
    {
     "name": "stdout",
     "output_type": "stream",
     "text": [
      "Accuracy: 0.7898883782009193\n",
      "\n",
      "\n"
     ]
    },
    {
     "data": {
      "image/png": "[encoded data removed]",
      "text/plain": [
       "<Figure size 432x288 with 2 Axes>"
      ]
     },
     "metadata": {
      "needs_background": "light"
     },
     "output_type": "display_data"
    }
   ],
   "source": [
    "# Initialize a Naive Bayes classifier and fit it to the train data\n",
    "classifier_NB = MultinomialNB()\n",
    "classifier_NB.fit(X_train, y_train)\n",
    "\n",
    "# Make predictions on the test set and compute accuracy\n",
    "y_pred_NB = classifier_NB.predict(X_test)\n",
    "accuracy_NB = accuracy_score(y_test, y_pred_NB)\n",
    "print(f\"Accuracy: {accuracy_NB}\")\n",
    "print(\"\\n\")\n",
    "\n",
    "# Create and plot the confusion matrix\n",
    "cm_NB = confusion_matrix(y_test, y_pred_NB)\n",
    "disp = ConfusionMatrixDisplay(confusion_matrix=cm_NB,display_labels=classifier_NB.classes_)\n",
    "disp.plot()\n",
    "plt.show()"
   ]
  },
  {
   "cell_type": "code",
   "execution_count": 42,
   "metadata": {
    "execution": {
     "iopub.execute_input": "2023-12-14T21:29:50.728499Z",
     "iopub.status.busy": "2023-12-14T21:29:50.727997Z",
     "iopub.status.idle": "2023-12-14T21:31:38.102858Z",
     "shell.execute_reply": "2023-12-14T21:31:38.101773Z",
     "shell.execute_reply.started": "2023-12-14T21:29:50.728462Z"
    }
   },
   "outputs": [
    {
     "name": "stdout",
     "output_type": "stream",
     "text": [
      "Accuracy: 0.7839789888378201\n",
      "\n",
      "\n"
     ]
    },
    {
     "data": {
      "image/png": "[encoded data removed]",
      "text/plain": [
       "<Figure size 432x288 with 2 Axes>"
      ]
     },
     "metadata": {
      "needs_background": "light"
     },
     "output_type": "display_data"
    }
   ],
   "source": [
    "# Initialize a Support Vector Machine classifier and fit it to the train data\n",
    "classifier_SVM = svm.SVC()\n",
    "classifier_SVM.fit(X_train, y_train)\n",
    "\n",
    "# Make predictions on the test set and compute accuracy\n",
    "y_pred_SVM = classifier_SVM.predict(X_test)\n",
    "accuracy_SVM = accuracy_score(y_test, y_pred_SVM)\n",
    "print(f\"Accuracy: {accuracy_SVM}\")\n",
    "print(\"\\n\")\n",
    "\n",
    "# Create and plot the confusion matrix\n",
    "cm_SVM = confusion_matrix(y_test, y_pred_SVM)\n",
    "disp = ConfusionMatrixDisplay(confusion_matrix=cm_SVM,display_labels=classifier_SVM.classes_)\n",
    "disp.plot()\n",
    "plt.show()"
   ]
  }
 ],
 "metadata": {
  "kaggle": {
   "accelerator": "none",
   "dataSources": [
    {
     "datasetId": 1435855,
     "sourceId": 2376171,
     "sourceType": "datasetVersion"
    }
   ],
   "dockerImageVersionId": 30157,
   "isGpuEnabled": false,
   "isInternetEnabled": false,
   "language": "python",
   "sourceType": "notebook"
  },
  "kernelspec": {
   "display_name": "Python 3 (ipykernel)",
   "language": "python",
   "name": "python3"
  },
  "language_info": {
   "codemirror_mode": {
    "name": "ipython",
    "version": 3
   },
   "file_extension": ".py",
   "mimetype": "text/x-python",
   "name": "python",
   "nbconvert_exporter": "python",
   "pygments_lexer": "ipython3",
   "version": "3.8.0rc1"
  }
 },
 "nbformat": 4,
 "nbformat_minor": 4
}
